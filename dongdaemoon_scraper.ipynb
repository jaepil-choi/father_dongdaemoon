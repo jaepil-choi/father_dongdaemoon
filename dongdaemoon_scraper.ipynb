{
 "cells": [
  {
   "attachments": {},
   "cell_type": "markdown",
   "metadata": {},
   "source": [
    "# 동대문 종합시장 scraper"
   ]
  },
  {
   "cell_type": "code",
   "execution_count": 88,
   "metadata": {},
   "outputs": [],
   "source": [
    "import pandas as pd\n",
    "import numpy as np\n",
    "\n",
    "import requests\n",
    "from bs4 import BeautifulSoup as bs\n",
    "\n",
    "from pathlib import Path\n",
    "from tqdm import tqdm\n",
    "\n",
    "import itertools\n",
    "import collections"
   ]
  },
  {
   "cell_type": "code",
   "execution_count": 2,
   "metadata": {},
   "outputs": [],
   "source": [
    "CUR_PATH = Path('.').resolve()\n",
    "DATA_PATH = CUR_PATH / 'data'\n",
    "OUT_PATH = CUR_PATH / 'output'"
   ]
  },
  {
   "cell_type": "code",
   "execution_count": 3,
   "metadata": {},
   "outputs": [],
   "source": [
    "catcode_list = [\n",
    "    '10000000', # 원단\n",
    "    '11000000', # 부자재\n",
    "    '12000000', # 실\n",
    "    '13000000', # 레이스\n",
    "]"
   ]
  },
  {
   "cell_type": "code",
   "execution_count": 39,
   "metadata": {},
   "outputs": [],
   "source": [
    "def make_url(catcode, page=1):\n",
    "    \n",
    "    return f'https://www.ddm-mall.com/store/store.php?page={page}&catcode={catcode}'"
   ]
  },
  {
   "cell_type": "code",
   "execution_count": 60,
   "metadata": {},
   "outputs": [],
   "source": [
    "def get_div_list(catcode):\n",
    "    div_list = []\n",
    "\n",
    "    url = make_url(catcode, page=1)\n",
    "    res = requests.get(url)\n",
    "    res_bs = bs(res.content, 'html.parser')\n",
    "    details = res_bs.find_all('div', {'class': 'storeTable'})\n",
    "    div_list += details\n",
    "\n",
    "    max_page = int(res_bs.find('a', {'class': 'page_next2'}).attrs['href'].split('&')[0][6:])\n",
    "\n",
    "    for page in range(2, max_page+1):\n",
    "        url = make_url(catcode, page=page)\n",
    "        res = requests.get(url)\n",
    "        res_bs = bs(res.content, 'html.parser')\n",
    "        details = res_bs.find_all('div', {'class': 'storeTable'})\n",
    "        div_list += details\n",
    "    \n",
    "    return div_list\n"
   ]
  },
  {
   "cell_type": "code",
   "execution_count": 65,
   "metadata": {},
   "outputs": [],
   "source": [
    "def parse_div(div):\n",
    "    store_name = div.find('h5')\n",
    "    li_list = div.find_all('li')\n",
    "\n",
    "    location = li_list[0].contents[1]\n",
    "    category_1 = li_list[1].find('span', {'class': 'cate1'}).text\n",
    "    category_2 = li_list[1].find('span', {'class': 'cate2'}).text\n",
    "    \n",
    "    try:\n",
    "        hashtags_list = li_list[2].find_all('a', {'class': 'hashtag'})\n",
    "        hashtags_list = [a.text for a in hashtags_list]\n",
    "    except:\n",
    "        print('no hashtag?')\n",
    "        print(f'li_list: {li_list}')\n",
    "        hashtags_list = []\n",
    "\n",
    "    store_data = {\n",
    "        'store_name': store_name,\n",
    "        'location': location,\n",
    "        'category_1': category_1,\n",
    "        'category_2': category_2,\n",
    "        'hashtags': hashtags_list,\n",
    "    }\n",
    "\n",
    "    return store_data"
   ]
  },
  {
   "cell_type": "code",
   "execution_count": 66,
   "metadata": {},
   "outputs": [
    {
     "name": "stderr",
     "output_type": "stream",
     "text": [
      " 25%|██▌       | 1/4 [00:49<02:29, 49.95s/it]"
     ]
    },
    {
     "name": "stdout",
     "output_type": "stream",
     "text": [
      "no hashtag?\n",
      "li_list: [<li><span class=\"title\">위치</span>N동 3F 018호<a class=\"loca\" data-prdcode=\"2201203496\" data-sfloor=\"3\" href=\"javascript:;\">위치보기</a></li>, <li><span class=\"title\">구분</span><span class=\"cate1\">원단</span><span class=\"cate2\">기타</span></li>]\n",
      "no hashtag?\n",
      "li_list: [<li><span class=\"title\">위치</span>C동 5F 092호<a class=\"loca\" data-prdcode=\"2201203126\" data-sfloor=\"5\" href=\"javascript:;\">위치보기</a></li>, <li><span class=\"title\">구분</span><span class=\"cate1\">원단</span><span class=\"cate2\">기타</span></li>]\n",
      "no hashtag?\n",
      "li_list: [<li><span class=\"title\">위치</span>C동 2F 2110호<a class=\"loca\" data-prdcode=\"2201202798\" data-sfloor=\"2\" href=\"javascript:;\">위치보기</a></li>, <li><span class=\"title\">구분</span><span class=\"cate1\">원단</span><span class=\"cate2\">기타</span></li>]\n",
      "no hashtag?\n",
      "li_list: [<li><span class=\"title\">위치</span>B동 3F 3100호<a class=\"loca\" data-prdcode=\"2201201965\" data-sfloor=\"3\" href=\"javascript:;\">위치보기</a></li>, <li><span class=\"title\">구분</span><span class=\"cate1\">원단</span><span class=\"cate2\">기타</span></li>]\n",
      "no hashtag?\n",
      "li_list: [<li><span class=\"title\">위치</span>B동 1F 1480호<a class=\"loca\" data-prdcode=\"2201201485\" data-sfloor=\"1\" href=\"javascript:;\">위치보기</a></li>, <li><span class=\"title\">구분</span><span class=\"cate1\">원단</span><span class=\"cate2\">기타</span></li>]\n"
     ]
    },
    {
     "name": "stderr",
     "output_type": "stream",
     "text": [
      " 50%|█████     | 2/4 [01:21<01:17, 38.91s/it]"
     ]
    },
    {
     "name": "stdout",
     "output_type": "stream",
     "text": [
      "no hashtag?\n",
      "li_list: [<li><span class=\"title\">위치</span>A동 5F 047호<a class=\"loca\" data-prdcode=\"2201200827\" data-sfloor=\"5\" href=\"javascript:;\">위치보기</a></li>, <li><span class=\"title\">구분</span><span class=\"cate1\">부자재</span><span class=\"cate2\">기타</span></li>]\n",
      "no hashtag?\n",
      "li_list: [<li><span class=\"title\">위치</span>A동 5F 044호<a class=\"loca\" data-prdcode=\"2201200824\" data-sfloor=\"5\" href=\"javascript:;\">위치보기</a></li>, <li><span class=\"title\">구분</span><span class=\"cate1\">부자재</span><span class=\"cate2\">기타</span></li>]\n"
     ]
    },
    {
     "name": "stderr",
     "output_type": "stream",
     "text": [
      "100%|██████████| 4/4 [01:41<00:00, 25.40s/it]\n"
     ]
    }
   ],
   "source": [
    "data = []\n",
    "\n",
    "for catcode in tqdm(catcode_list):\n",
    "    div_list = get_div_list(catcode)\n",
    "    if div_list:\n",
    "        div_data = [parse_div(div) for div in div_list]\n",
    "        data += div_data\n",
    "    else:\n",
    "        print('empty div_list?')\n",
    "        print(f'div_list: {div_list}')"
   ]
  },
  {
   "cell_type": "code",
   "execution_count": 71,
   "metadata": {},
   "outputs": [],
   "source": [
    "df = pd.DataFrame(data)"
   ]
  },
  {
   "cell_type": "code",
   "execution_count": 72,
   "metadata": {},
   "outputs": [
    {
     "name": "stdout",
     "output_type": "stream",
     "text": [
      "<class 'pandas.core.frame.DataFrame'>\n",
      "RangeIndex: 2947 entries, 0 to 2946\n",
      "Data columns (total 5 columns):\n",
      " #   Column      Non-Null Count  Dtype \n",
      "---  ------      --------------  ----- \n",
      " 0   store_name  2947 non-null   object\n",
      " 1   location    2947 non-null   object\n",
      " 2   category_1  2947 non-null   object\n",
      " 3   category_2  2947 non-null   object\n",
      " 4   hashtags    2947 non-null   object\n",
      "dtypes: object(5)\n",
      "memory usage: 115.2+ KB\n"
     ]
    }
   ],
   "source": [
    "df.info()"
   ]
  },
  {
   "attachments": {},
   "cell_type": "markdown",
   "metadata": {},
   "source": [
    "실수로 bs obj 로 몇 개 들어가서 다 text 꺼내줌. "
   ]
  },
  {
   "cell_type": "code",
   "execution_count": 75,
   "metadata": {},
   "outputs": [],
   "source": [
    "df['store_name'] = df['store_name'].apply(lambda bs_obj: bs_obj.text)"
   ]
  },
  {
   "cell_type": "code",
   "execution_count": 78,
   "metadata": {},
   "outputs": [],
   "source": [
    "df['location'] = df['location'].apply(lambda bs_obj: bs_obj.text)"
   ]
  },
  {
   "cell_type": "code",
   "execution_count": 79,
   "metadata": {},
   "outputs": [
    {
     "data": {
      "text/html": [
       "<div>\n",
       "<style scoped>\n",
       "    .dataframe tbody tr th:only-of-type {\n",
       "        vertical-align: middle;\n",
       "    }\n",
       "\n",
       "    .dataframe tbody tr th {\n",
       "        vertical-align: top;\n",
       "    }\n",
       "\n",
       "    .dataframe thead th {\n",
       "        text-align: right;\n",
       "    }\n",
       "</style>\n",
       "<table border=\"1\" class=\"dataframe\">\n",
       "  <thead>\n",
       "    <tr style=\"text-align: right;\">\n",
       "      <th></th>\n",
       "      <th>store_name</th>\n",
       "      <th>location</th>\n",
       "      <th>category_1</th>\n",
       "      <th>category_2</th>\n",
       "      <th>hashtags</th>\n",
       "    </tr>\n",
       "  </thead>\n",
       "  <tbody>\n",
       "    <tr>\n",
       "      <th>0</th>\n",
       "      <td>포비전</td>\n",
       "      <td>C동 2F 2015-1호</td>\n",
       "      <td>원단</td>\n",
       "      <td>교직물</td>\n",
       "      <td>[#원단]</td>\n",
       "    </tr>\n",
       "    <tr>\n",
       "      <th>1</th>\n",
       "      <td>루디아</td>\n",
       "      <td>N동 B1F 087호</td>\n",
       "      <td>원단</td>\n",
       "      <td>기타</td>\n",
       "      <td>[#침구, #누비원단]</td>\n",
       "    </tr>\n",
       "    <tr>\n",
       "      <th>2</th>\n",
       "      <td>형림사</td>\n",
       "      <td>N동 B1F 046호</td>\n",
       "      <td>원단</td>\n",
       "      <td>화섬</td>\n",
       "      <td>[#침구, #화섬]</td>\n",
       "    </tr>\n",
       "    <tr>\n",
       "      <th>3</th>\n",
       "      <td>형림사</td>\n",
       "      <td>N동 B1F 017호</td>\n",
       "      <td>원단</td>\n",
       "      <td>화섬</td>\n",
       "      <td>[#침구, #누비]</td>\n",
       "    </tr>\n",
       "    <tr>\n",
       "      <th>4</th>\n",
       "      <td>한길상사</td>\n",
       "      <td>N동 B1F 003호</td>\n",
       "      <td>원단</td>\n",
       "      <td>기타</td>\n",
       "      <td>[#심지, #부직포]</td>\n",
       "    </tr>\n",
       "    <tr>\n",
       "      <th>...</th>\n",
       "      <td>...</td>\n",
       "      <td>...</td>\n",
       "      <td>...</td>\n",
       "      <td>...</td>\n",
       "      <td>...</td>\n",
       "    </tr>\n",
       "    <tr>\n",
       "      <th>2942</th>\n",
       "      <td>영도트림아트</td>\n",
       "      <td>A동 2F 2036호</td>\n",
       "      <td>레이스</td>\n",
       "      <td>자수레이스</td>\n",
       "      <td>[#레이스]</td>\n",
       "    </tr>\n",
       "    <tr>\n",
       "      <th>2943</th>\n",
       "      <td>제니텍스</td>\n",
       "      <td>A동 2F 2032호</td>\n",
       "      <td>레이스</td>\n",
       "      <td>랏셀</td>\n",
       "      <td>[#레이스]</td>\n",
       "    </tr>\n",
       "    <tr>\n",
       "      <th>2944</th>\n",
       "      <td>제니텍스</td>\n",
       "      <td>A동 2F 2031호</td>\n",
       "      <td>레이스</td>\n",
       "      <td>비즈레이스</td>\n",
       "      <td>[##레이스 #랏셀레이스 #자수레이스 #면레이스 #번아웃레이스 #띠레이스 #원단 #...</td>\n",
       "    </tr>\n",
       "    <tr>\n",
       "      <th>2945</th>\n",
       "      <td>제니텍스</td>\n",
       "      <td>A동 2F 2030호</td>\n",
       "      <td>레이스</td>\n",
       "      <td>자수레이스</td>\n",
       "      <td>[#레이스, #랏셀레이스, #자수레이스, #면레이스, #번아웃레이스, #띠레이스, ...</td>\n",
       "    </tr>\n",
       "    <tr>\n",
       "      <th>2946</th>\n",
       "      <td>제니텍스</td>\n",
       "      <td>A동 2F 2028호</td>\n",
       "      <td>레이스</td>\n",
       "      <td>랏셀</td>\n",
       "      <td>[##레이스 #랏셀레이스 #자수레이스 #면레이스 #번아웃레이스 #띠레이스 #원단 #...</td>\n",
       "    </tr>\n",
       "  </tbody>\n",
       "</table>\n",
       "<p>2947 rows × 5 columns</p>\n",
       "</div>"
      ],
      "text/plain": [
       "     store_name       location category_1 category_2  \\\n",
       "0           포비전  C동 2F 2015-1호         원단        교직물   \n",
       "1           루디아    N동 B1F 087호         원단         기타   \n",
       "2           형림사    N동 B1F 046호         원단         화섬   \n",
       "3           형림사    N동 B1F 017호         원단         화섬   \n",
       "4          한길상사    N동 B1F 003호         원단         기타   \n",
       "...         ...            ...        ...        ...   \n",
       "2942     영도트림아트    A동 2F 2036호        레이스      자수레이스   \n",
       "2943       제니텍스    A동 2F 2032호        레이스         랏셀   \n",
       "2944       제니텍스    A동 2F 2031호        레이스      비즈레이스   \n",
       "2945       제니텍스    A동 2F 2030호        레이스      자수레이스   \n",
       "2946       제니텍스    A동 2F 2028호        레이스         랏셀   \n",
       "\n",
       "                                               hashtags  \n",
       "0                                                 [#원단]  \n",
       "1                                          [#침구, #누비원단]  \n",
       "2                                            [#침구, #화섬]  \n",
       "3                                            [#침구, #누비]  \n",
       "4                                           [#심지, #부직포]  \n",
       "...                                                 ...  \n",
       "2942                                             [#레이스]  \n",
       "2943                                             [#레이스]  \n",
       "2944  [##레이스 #랏셀레이스 #자수레이스 #면레이스 #번아웃레이스 #띠레이스 #원단 #...  \n",
       "2945  [#레이스, #랏셀레이스, #자수레이스, #면레이스, #번아웃레이스, #띠레이스, ...  \n",
       "2946  [##레이스 #랏셀레이스 #자수레이스 #면레이스 #번아웃레이스 #띠레이스 #원단 #...  \n",
       "\n",
       "[2947 rows x 5 columns]"
      ]
     },
     "execution_count": 79,
     "metadata": {},
     "output_type": "execute_result"
    }
   ],
   "source": [
    "df"
   ]
  },
  {
   "cell_type": "code",
   "execution_count": 80,
   "metadata": {},
   "outputs": [],
   "source": [
    "df.to_pickle('dongdaemoon_data.pickle')"
   ]
  },
  {
   "cell_type": "code",
   "execution_count": 81,
   "metadata": {},
   "outputs": [],
   "source": [
    "df.to_csv('동대문데이터.csv')"
   ]
  },
  {
   "cell_type": "code",
   "execution_count": 89,
   "metadata": {},
   "outputs": [],
   "source": [
    "hashtags = list(df['hashtags'].values)"
   ]
  },
  {
   "cell_type": "code",
   "execution_count": 101,
   "metadata": {},
   "outputs": [],
   "source": [
    "c = collections.Counter(itertools.chain(*hashtags))"
   ]
  },
  {
   "cell_type": "code",
   "execution_count": 109,
   "metadata": {},
   "outputs": [
    {
     "data": {
      "text/html": [
       "<div>\n",
       "<style scoped>\n",
       "    .dataframe tbody tr th:only-of-type {\n",
       "        vertical-align: middle;\n",
       "    }\n",
       "\n",
       "    .dataframe tbody tr th {\n",
       "        vertical-align: top;\n",
       "    }\n",
       "\n",
       "    .dataframe thead th {\n",
       "        text-align: right;\n",
       "    }\n",
       "</style>\n",
       "<table border=\"1\" class=\"dataframe\">\n",
       "  <thead>\n",
       "    <tr style=\"text-align: right;\">\n",
       "      <th></th>\n",
       "      <th>hashtag</th>\n",
       "      <th>count</th>\n",
       "    </tr>\n",
       "  </thead>\n",
       "  <tbody>\n",
       "    <tr>\n",
       "      <th>0</th>\n",
       "      <td>#화섬</td>\n",
       "      <td>341</td>\n",
       "    </tr>\n",
       "    <tr>\n",
       "      <th>1</th>\n",
       "      <td>#레이스</td>\n",
       "      <td>286</td>\n",
       "    </tr>\n",
       "    <tr>\n",
       "      <th>2</th>\n",
       "      <td>#액세서리</td>\n",
       "      <td>141</td>\n",
       "    </tr>\n",
       "    <tr>\n",
       "      <th>3</th>\n",
       "      <td>#직물</td>\n",
       "      <td>137</td>\n",
       "    </tr>\n",
       "    <tr>\n",
       "      <th>4</th>\n",
       "      <td>#의류부자재</td>\n",
       "      <td>123</td>\n",
       "    </tr>\n",
       "    <tr>\n",
       "      <th>5</th>\n",
       "      <td>#원사</td>\n",
       "      <td>103</td>\n",
       "    </tr>\n",
       "    <tr>\n",
       "      <th>6</th>\n",
       "      <td>#부자재</td>\n",
       "      <td>99</td>\n",
       "    </tr>\n",
       "    <tr>\n",
       "      <th>7</th>\n",
       "      <td>#뜨개</td>\n",
       "      <td>98</td>\n",
       "    </tr>\n",
       "    <tr>\n",
       "      <th>8</th>\n",
       "      <td>#면직물</td>\n",
       "      <td>88</td>\n",
       "    </tr>\n",
       "    <tr>\n",
       "      <th>9</th>\n",
       "      <td>#원단</td>\n",
       "      <td>86</td>\n",
       "    </tr>\n",
       "    <tr>\n",
       "      <th>10</th>\n",
       "      <td>#나염</td>\n",
       "      <td>82</td>\n",
       "    </tr>\n",
       "    <tr>\n",
       "      <th>11</th>\n",
       "      <td>#다이마루</td>\n",
       "      <td>80</td>\n",
       "    </tr>\n",
       "    <tr>\n",
       "      <th>12</th>\n",
       "      <td>#면</td>\n",
       "      <td>70</td>\n",
       "    </tr>\n",
       "    <tr>\n",
       "      <th>13</th>\n",
       "      <td>#재봉사</td>\n",
       "      <td>68</td>\n",
       "    </tr>\n",
       "    <tr>\n",
       "      <th>14</th>\n",
       "      <td>#액세서리부자재</td>\n",
       "      <td>64</td>\n",
       "    </tr>\n",
       "    <tr>\n",
       "      <th>15</th>\n",
       "      <td>#모피</td>\n",
       "      <td>62</td>\n",
       "    </tr>\n",
       "    <tr>\n",
       "      <th>16</th>\n",
       "      <td>#비즈</td>\n",
       "      <td>56</td>\n",
       "    </tr>\n",
       "    <tr>\n",
       "      <th>17</th>\n",
       "      <td>#직기</td>\n",
       "      <td>55</td>\n",
       "    </tr>\n",
       "    <tr>\n",
       "      <th>18</th>\n",
       "      <td>#뜨개실</td>\n",
       "      <td>43</td>\n",
       "    </tr>\n",
       "    <tr>\n",
       "      <th>19</th>\n",
       "      <td>#폴리</td>\n",
       "      <td>42</td>\n",
       "    </tr>\n",
       "    <tr>\n",
       "      <th>20</th>\n",
       "      <td>#단추</td>\n",
       "      <td>39</td>\n",
       "    </tr>\n",
       "    <tr>\n",
       "      <th>21</th>\n",
       "      <td>#테이프</td>\n",
       "      <td>33</td>\n",
       "    </tr>\n",
       "    <tr>\n",
       "      <th>22</th>\n",
       "      <td>#리본</td>\n",
       "      <td>31</td>\n",
       "    </tr>\n",
       "    <tr>\n",
       "      <th>23</th>\n",
       "      <td>#안감</td>\n",
       "      <td>28</td>\n",
       "    </tr>\n",
       "    <tr>\n",
       "      <th>24</th>\n",
       "      <td>#화섬직</td>\n",
       "      <td>25</td>\n",
       "    </tr>\n",
       "    <tr>\n",
       "      <th>25</th>\n",
       "      <td>#코사지</td>\n",
       "      <td>25</td>\n",
       "    </tr>\n",
       "    <tr>\n",
       "      <th>26</th>\n",
       "      <td>#교직물</td>\n",
       "      <td>24</td>\n",
       "    </tr>\n",
       "    <tr>\n",
       "      <th>27</th>\n",
       "      <td>#지퍼</td>\n",
       "      <td>23</td>\n",
       "    </tr>\n",
       "    <tr>\n",
       "      <th>28</th>\n",
       "      <td>#린넨</td>\n",
       "      <td>23</td>\n",
       "    </tr>\n",
       "    <tr>\n",
       "      <th>29</th>\n",
       "      <td>#모직</td>\n",
       "      <td>21</td>\n",
       "    </tr>\n",
       "  </tbody>\n",
       "</table>\n",
       "</div>"
      ],
      "text/plain": [
       "     hashtag  count\n",
       "0        #화섬    341\n",
       "1       #레이스    286\n",
       "2      #액세서리    141\n",
       "3        #직물    137\n",
       "4     #의류부자재    123\n",
       "5        #원사    103\n",
       "6       #부자재     99\n",
       "7        #뜨개     98\n",
       "8       #면직물     88\n",
       "9        #원단     86\n",
       "10       #나염     82\n",
       "11     #다이마루     80\n",
       "12        #면     70\n",
       "13      #재봉사     68\n",
       "14  #액세서리부자재     64\n",
       "15       #모피     62\n",
       "16       #비즈     56\n",
       "17       #직기     55\n",
       "18      #뜨개실     43\n",
       "19       #폴리     42\n",
       "20       #단추     39\n",
       "21      #테이프     33\n",
       "22       #리본     31\n",
       "23       #안감     28\n",
       "24      #화섬직     25\n",
       "25      #코사지     25\n",
       "26      #교직물     24\n",
       "27       #지퍼     23\n",
       "28       #린넨     23\n",
       "29       #모직     21"
      ]
     },
     "execution_count": 109,
     "metadata": {},
     "output_type": "execute_result"
    }
   ],
   "source": [
    "hashtag_count_df = pd.DataFrame(c.items(), columns=['hashtag', 'count'])\n",
    "hashtag_count_df = hashtag_count_df.sort_values(by='count', ascending=False, ignore_index=True)\n",
    "hashtag_count_df.head(30)"
   ]
  },
  {
   "cell_type": "code",
   "execution_count": 108,
   "metadata": {},
   "outputs": [
    {
     "data": {
      "text/plain": [
       "<AxesSubplot:>"
      ]
     },
     "execution_count": 108,
     "metadata": {},
     "output_type": "execute_result"
    },
    {
     "data": {
      "image/png": "[encoded data removed]",
      "text/plain": [
       "<Figure size 640x480 with 1 Axes>"
      ]
     },
     "metadata": {},
     "output_type": "display_data"
    }
   ],
   "source": [
    "hashtag_count_df['count'].plot()"
   ]
  },
  {
   "cell_type": "code",
   "execution_count": null,
   "metadata": {},
   "outputs": [],
   "source": []
  }
 ],
 "metadata": {
  "kernelspec": {
   "display_name": "webscraping38",
   "language": "python",
   "name": "python3"
  },
  "language_info": {
   "codemirror_mode": {
    "name": "ipython",
    "version": 3
   },
   "file_extension": ".py",
   "mimetype": "text/x-python",
   "name": "python",
   "nbconvert_exporter": "python",
   "pygments_lexer": "ipython3",
   "version": "3.8.13"
  },
  "orig_nbformat": 4,
  "vscode": {
   "interpreter": {
    "hash": "49f75016a844eda7a1af26ea2374d408532781a124505b770fad6e97e3237e9a"
   }
  }
 },
 "nbformat": 4,
 "nbformat_minor": 2
}
